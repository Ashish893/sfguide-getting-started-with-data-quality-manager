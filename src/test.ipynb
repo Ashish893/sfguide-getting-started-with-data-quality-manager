{
 "metadata": {
  "language_info": {
   "name": "python"
  },
  "lastEditStatus": {
   "notebookId": "yflh6cesb3wpr25tspaw",
   "authorId": "427718839787",
   "authorName": "ASHKUMAR",
   "authorEmail": "ash.kumar@snowflake.com",
   "sessionId": "0302d96e-5118-4720-8b16-1a1173b770be",
   "lastEditTime": 1737541143366
  }
 },
 "nbformat_minor": 2,
 "nbformat": 4,
 "cells": [
  {
   "cell_type": "code",
   "execution_count": null,
   "metadata": {
    "name": "cell1",
    "language": "python"
   },
   "outputs": [],
   "source": [
    "print(\"hello\")"
   ],
   "id": "ce110000-1111-2222-3333-ffffff000000"
  },
  {
   "cell_type": "code",
   "id": "1c3d73a7-a2c6-4d19-a253-ec25540e2dcd",
   "metadata": {
    "language": "sql",
    "name": "cell3",
    "resultHeight": 112
   },
   "outputs": [],
   "source": "use database git_db;\n-- create schema my_test;\nuse schema my_test;\n\ncreate table hello(id number);",
   "execution_count": null
  },
  {
   "cell_type": "code",
   "id": "633549fa-bf21-48b4-b2f7-813a4bb8fde6",
   "metadata": {
    "language": "sql",
    "name": "cell2",
    "resultHeight": 112
   },
   "outputs": [],
   "source": "show tables;",
   "execution_count": null
  }
 ]
}